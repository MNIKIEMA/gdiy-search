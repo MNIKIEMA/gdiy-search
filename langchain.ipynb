{
 "cells": [
  {
   "cell_type": "code",
   "execution_count": 1,
   "metadata": {},
   "outputs": [],
   "source": [
    "from langchain.vectorstores import Chroma\n",
    "from langchain.embeddings import OpenAIEmbeddings, SentenceTransformerEmbeddings, HuggingFaceEmbeddings\n",
    "from langchain.document_loaders import DataFrameLoader\n",
    "from langchain.text_splitter import RecursiveCharacterTextSplitter, CharacterTextSplitter\n",
    "from langchain.llms import OpenAI\n",
    "from langchain.chains import VectorDBQA\n",
    "from langchain.docstore.document import Document\n",
    "from langchain.vectorstores import FAISS\n"
   ]
  },
  {
   "cell_type": "code",
   "execution_count": 76,
   "metadata": {},
   "outputs": [],
   "source": [
    "import os\n",
    "from tqdm.autonotebook import tqdm\n",
    "\n",
    "os.environ[\"OPENAI_API_KEY\"] = \"My API Key\""
   ]
  },
  {
   "cell_type": "code",
   "execution_count": 3,
   "metadata": {},
   "outputs": [],
   "source": [
    "import json\n",
    "def split_to_doc(file_path, spliter):\n",
    "    all_document = []\n",
    "    # Load episode title\n",
    "    with open(\"./audio_info.json\", \"r\") as f:\n",
    "        titles = json.load(f)\n",
    "\n",
    "    for file in tqdm(os.listdir(file_path)):\n",
    "        with open(file_path + file, \"r\") as f:\n",
    "            data = json.load(f)\n",
    "            for ids, transcript in data.items():\n",
    "                etadata = {'title': \"\"}\n",
    "                if ids in titles:\n",
    "\n",
    "                    metadata = {'title': titles[ids]}\n",
    "                \n",
    "                text = transcript[\"text\"]\n",
    "                splitted_text = spliter.split_text(text)\n",
    "                for chunk in splitted_text:\n",
    "\n",
    "                    document = Document(page_content=chunk, metadata=metadata)\n",
    "                    all_document.append(document)\n",
    "    return all_document"
   ]
  },
  {
   "cell_type": "code",
   "execution_count": 66,
   "metadata": {},
   "outputs": [],
   "source": [
    "from langchain.text_splitter import CharacterTextSplitter\n",
    "text_splitter = CharacterTextSplitter(chunk_size=1000, chunk_overlap=0)\n",
    "text_splitter = RecursiveCharacterTextSplitter(\n",
    "    # Set a really small chunk size, just to show.\n",
    "    chunk_size = 1000,\n",
    "    chunk_overlap  = 20,\n",
    "    length_function = len,\n",
    ")"
   ]
  },
  {
   "cell_type": "code",
   "execution_count": 67,
   "metadata": {},
   "outputs": [
    {
     "data": {
      "application/vnd.jupyter.widget-view+json": {
       "model_id": "4ebffde92ba24abfa02e433165275255",
       "version_major": 2,
       "version_minor": 0
      },
      "text/plain": [
       "  0%|          | 0/340 [00:00<?, ?it/s]"
      ]
     },
     "metadata": {},
     "output_type": "display_data"
    }
   ],
   "source": [
    "doc_all = split_to_doc(\"./gdiy_json_data/\", text_splitter)"
   ]
  },
  {
   "cell_type": "code",
   "execution_count": 29,
   "metadata": {},
   "outputs": [],
   "source": [
    "embeddings = HuggingFaceEmbeddings(model_name=\"dangvantuan/sentence-camembert-base\")\n",
    "# model =  SentenceTransformer(\"dangvantuan/sentence-camembert-large\",device=\"cuda\")"
   ]
  },
  {
   "cell_type": "code",
   "execution_count": 10,
   "metadata": {},
   "outputs": [],
   "source": [
    "from langchain.indexes import VectorstoreIndexCreator\n",
    "index = VectorstoreIndexCreator(embedding=embeddings).from_documents(doc_all[:100])"
   ]
  },
  {
   "cell_type": "code",
   "execution_count": 68,
   "metadata": {},
   "outputs": [],
   "source": [
    "db = FAISS.from_documents(doc_all[:200], embeddings)"
   ]
  },
  {
   "cell_type": "code",
   "execution_count": 51,
   "metadata": {},
   "outputs": [],
   "source": [
    "#db2 = FAISS.from_documents(doc_all[100:200], embeddings)\n",
    "#db.merge_from(db2)"
   ]
  },
  {
   "cell_type": "code",
   "execution_count": 69,
   "metadata": {},
   "outputs": [],
   "source": [
    "def batch_list(lst, batch_size):\n",
    "    for i in range(0, len(lst), batch_size):\n",
    "        yield lst[i:i + batch_size]"
   ]
  },
  {
   "cell_type": "code",
   "execution_count": 70,
   "metadata": {},
   "outputs": [],
   "source": [
    "batched_doc = batch_list(doc_all, batch_size=200)\n",
    "batch_len = sum(1 for _ in batch_list(doc_all, batch_size=200))"
   ]
  },
  {
   "cell_type": "code",
   "execution_count": 71,
   "metadata": {},
   "outputs": [
    {
     "data": {
      "application/vnd.jupyter.widget-view+json": {
       "model_id": "99a10066f5c84a088519172c1ffcbf1b",
       "version_major": 2,
       "version_minor": 0
      },
      "text/plain": [
       "  0%|          | 0/255 [00:00<?, ?it/s]"
      ]
     },
     "metadata": {},
     "output_type": "display_data"
    }
   ],
   "source": [
    "for i, doc in tqdm(enumerate(batched_doc), total=batch_len):\n",
    "        if i == 0:\n",
    "                continue\n",
    "        #current_db = FAISS.from_documents(doc, embeddings)\n",
    "        db.add_documents(doc)"
   ]
  },
  {
   "cell_type": "code",
   "execution_count": 72,
   "metadata": {},
   "outputs": [],
   "source": [
    "db.save_local(\"faiss_index\")"
   ]
  },
  {
   "cell_type": "code",
   "execution_count": 73,
   "metadata": {},
   "outputs": [],
   "source": [
    "retriever = db.as_retriever()"
   ]
  },
  {
   "cell_type": "code",
   "execution_count": 77,
   "metadata": {},
   "outputs": [],
   "source": [
    "from langchain.chains import RetrievalQA\n",
    "from langchain.llms import OpenAI\n",
    "qa = RetrievalQA.from_chain_type(llm=OpenAI(), chain_type=\"stuff\", retriever=retriever)"
   ]
  },
  {
   "cell_type": "code",
   "execution_count": 136,
   "metadata": {},
   "outputs": [],
   "source": [
    "query = \"Comment prendre de meilleures décisions et être plus créatif ?\"\n",
    "res=db.similarity_search_with_score(query=query, k=5)"
   ]
  },
  {
   "cell_type": "code",
   "execution_count": 137,
   "metadata": {},
   "outputs": [
    {
     "name": "stdout",
     "output_type": "stream",
     "text": [
      "(Document(page_content=\"vouloir améliorer le modèle, comment est-ce que c'est plus vertueux pour les élèves, comment est-ce qu'on accueille plus d'élèves avec le même niveau de qualité. Voilà, mais je me sens pas bloqué sur certains sujets. Ok. Et si tu pouvais te donner un conseil à toi il y a dix ans ? Peut-être plus souvent sortir la tête du guidon, plus souvent essayer de voir à long terme, essayer d'être meilleur en planification. Moi j'ai un côté très opérationnel, j'adore mettre les mains dans le cambouis, donc du coup c'est pas trop mon genre de passer une journée sur un business plan par exemple, pas du tout. Et au stade où est LiveVenture aujourd'hui, ça peut être intéressant justement, pas forcément l'exercice business plan mais de tracer la ligne et de se dire où est-ce que je veux être dans un an, dans deux ans, dans trois ans, c'est pas dans mon caractère. D'accord, t'as encore une vie perso ? Ouais complètement. Ouais ? Complètement. C'est bien, c'est pas donné à tous les entrepreneurs. Je\", metadata={'title': '#229 - Frédéric Montagnon - Arianee - Le WEB3 pour se réapproprier Internet'}), 8.157261)\n",
      "(Document(page_content=\"pour être efficace ? Sur la prise de décision en réunion ? Oui, sur l'exécution derrière. Je ne sais pas si on est très bon sur le sujet, en fait, mais faites honnête. Vous avez l'air en tout cas d'être efficace. Oui, je pense qu'on sait avancer assez vite. Oui, on sait prendre des décisions. Ce qu'il faut, c'est se fixer des next steps en permanence. Il ne sert à rien de se parler pour se parler. Aujourd'hui, tu as un champ des possibles assez hallucinant. C'est-à-dire que tu peux te dire en fait... Alors, si je calcule à peu près, je pourrais me dire, tu as fait 100 millions de... volumes, de missions. Si je dois extrapoler, on va dire que tu en as fait 50 sur les 12 mois écoulés, peut-être un peu moins, mais c'est ça. Donc 12 millions de chiffre d'affaires pour Brigade Massomenos. Et donc, tu es quand même sur un truc où tu n'es pas si loin de la rentabilité que ça, si peut-être ? On a été rentable en décembre. Ah, vous avez été rentable, OK, très bien. On a été rentable en\", metadata={'title': '#316 - Florent Malbranche - Brigad - Partir d’un Excel, lever 33M d’€ et réinventer les métiers du service'}), 8.575953)\n",
      "(Document(page_content=\"le sortir en deux ans et demi alors que tous les autres le font en quatre ? Si, si, si, bien sûr, si bien sûr, parce que si je disais pas, on redéploie notre politique de responsabilité sociétale et environnementale. C'est vrai que les 128 nouvelles actions, j'ai été plus pacificateur en disant voilà, on va aller à la vitesse de etc. Voilà. Alors quelles sont-elles tes batailles internes à toi Bernard ? Mes batailles internes, j'en ai une qui est de l'ordre de la culture. Alors pas de la culture d'entreprise, je suis assez plutôt rassuré là-dessus, mais dans mon domaine on ne pourra pas continuer à exister, être ce que nous sommes s'il n'y a pas davantage de de culture dans le domaine du du design, la culture au sens large. Bon, on fait des produits, d'abord si Fairmob n'existe pas il y a zéro souci, voilà, on fait des chaises, 4 pieds en métal et tout. Mais nous on est au-delà de ça, et je ne voudrais pas que les gens se cantonnent justement à une vision d'entreprise qui ne soit qu'à\", metadata={'title': '#299 - Bernard Reybier - Fermob - Miser sur le design et le Made in France pour produire du mobilier intemporel'}), 8.791165)\n",
      "(Document(page_content=\"C'est un tiers de mon temps aujourd'hui donc c'est plus mes équipes parce que... Nous on s'est lancé dans ce marché-là depuis 12 mois, donc c'est encore très récent. Et sur notre liste de choses à faire, on a un objectif qui est d'encontrer toutes les grandes assos très professionnelles qui peuvent exister, notamment à l'étranger, notamment aux États-Unis, pour comprendre quels sont leurs méthodes, comment elles pratiquent, quelles sont les bonnes et les mauvaises pratiques, et pouvoir apprendre de nos pairs pour nous améliorer. Elles sont ouvertes là-dessus ? Écoute, les quelques débuts de discussion qu'on a pu avoir avec certaines d'entre elles sont plutôt très positifs. Ils ne vont pas comme des concurrents ou autre. C'est ce que j'allais te demander, il y a une concurrence. Non, forcément, il y en a avoir de temps en temps. Mais je pense que la plupart des gens qui sont là-dedans sont quand même animés par une envie d'améliorer les choses de façon forte et donc ils sont ravis de\", metadata={'title': '#284 - Pierre-Édouard Stérin - Otium Capital - Milliardaire et saint dans une même vie'}), 8.992096)\n",
      "(Document(page_content=\"Qu'est-ce que... T'as encore quatre heures ? Ouais, grave. Non mais qu'est-ce que je peux te dire ? Alors tu vois d'un point de vue start-up déjà et aussi potentiellement pourquoi pas d'un point de vue opérationnel. Moi j'ouvre à ma longue échelle un grand bureau à Bordeaux tu vois super chouette. Quels sont les écueils ? Qu'est-ce que vous avez fait qui font qu'on fonctionnait, qui a pas fonctionné ? Est-ce que vous étiez partie sur des idées ? Je peux te raconter beaucoup sur Station rêve, sur les choix qu'on a fait, sur des choses qu'on a appris, en partant de le choix de couleur de moquette à des offres qu'on a lancées, qui n'ont pas appris plus que ça parce qu'on avait mal imaginé les choses. La moquette blanche c'est très beau. On n'est pas loin, c'est juste le moins pratique, mais c'est pas grave. Non, il y a des choses comme ça. Sinon, sur les startups, je pense que j'ai commencé récemment aussi à faire un peu d'investissement. Et en vrai, je pense que je commence à voir. Ça\", metadata={'title': '#186 - Roxanne Varza - Station F - Créer un réseau et cueillir les opportunités'}), 9.052891)\n"
     ]
    }
   ],
   "source": [
    "for resp in res:\n",
    "\n",
    "    print(resp)"
   ]
  },
  {
   "cell_type": "code",
   "execution_count": 128,
   "metadata": {},
   "outputs": [],
   "source": [
    "from langchain.prompts import PromptTemplate\n",
    "prompt_template = \"\"\"Use the following pieces of context to answer the question at the end.\n",
    "Give many informations as possible.\n",
    "If you don't know the answer, just say that you don't know, don't try to make up an answer.\n",
    "\n",
    "{context}\n",
    "\n",
    "Question: {question}\n",
    "Answer in French:\"\"\"\n",
    "PROMPT = PromptTemplate(\n",
    "    template=prompt_template, input_variables=[\"context\", \"question\"]\n",
    ")"
   ]
  },
  {
   "cell_type": "code",
   "execution_count": 129,
   "metadata": {},
   "outputs": [],
   "source": [
    "chain_type_kwargs = {\"prompt\": PROMPT}\n",
    "qa = RetrievalQA.from_chain_type(llm=OpenAI(), chain_type=\"stuff\",\n",
    "                                  retriever=db.as_retriever(), chain_type_kwargs=chain_type_kwargs)"
   ]
  },
  {
   "cell_type": "code",
   "execution_count": 144,
   "metadata": {},
   "outputs": [],
   "source": [
    "query = \"quels conseils à une personne qui veut se lancer aujourd'hui?\""
   ]
  },
  {
   "cell_type": "code",
   "execution_count": 145,
   "metadata": {},
   "outputs": [
    {
     "data": {
      "text/plain": [
       "\" La meilleure chose à faire pour une personne qui veut se lancer aujourd'hui est d'utiliser LegalStart pour choisir la bonne plateforme administrative et juridique dès le départ. Cela vous permet de vous enlever de la charge mentale inutile. De plus, LegalStart met à votre disposition 100 juristes basés en France, ainsi que 20 partenaires ultra-premium qui vous accompagnent pour la comptabilité, l'assurance et la banque.\""
      ]
     },
     "execution_count": 145,
     "metadata": {},
     "output_type": "execute_result"
    }
   ],
   "source": [
    "qa.run(query)"
   ]
  },
  {
   "cell_type": "code",
   "execution_count": 95,
   "metadata": {},
   "outputs": [],
   "source": [
    "from langchain import LLMChain\n",
    "\n",
    "with open(\"./1.txt\") as f:\n",
    "    state_of_the_union = f.read()\n",
    "texts = text_splitter.split_text(state_of_the_union)"
   ]
  },
  {
   "cell_type": "code",
   "execution_count": 115,
   "metadata": {},
   "outputs": [
    {
     "data": {
      "text/plain": [
       "\"que deux trois bons plans. Pour finir n'oubliez pas que si vous avez des besoins en accompagnement digital, toute l'équipe de Causa Vostra va vous bichonner comme il se doit si vous nous écrivez sur contact.causavostra.com. Je suis Mathieu Stéph podcast, je vous arrête tout de suite un tout petit instant, abonnez-vous à New Work City, c'est New Work comme le travail, Work avec un W à la place du Y de New York City, et c'est le podcast de ma chère amie Julia Molkou qui est produit par Orso Media. Et si vous cherchez un podcast qui aborde en long, en large et en travers tous les sujets tabous de l'entreprise, c'est croustillant je vous préviens, ne cherchez plus, vous êtes au bon endroit. Dans New Work City, Julia et ses invités exportent les sujets tabous, les sujets qui fâchent et qu'on n'ose même pas évoquer à la machine à café. Sur le papier, la vie de bureau, vous le savez tous, c'est un long fleuve tranquille. Le cadre est bien délimité, les frontières sont définies au millimètre\""
      ]
     },
     "execution_count": 115,
     "metadata": {},
     "output_type": "execute_result"
    }
   ],
   "source": [
    "# on peut selectionner texts[2:-3]\n",
    "texts[-3]"
   ]
  },
  {
   "cell_type": "code",
   "execution_count": 101,
   "metadata": {},
   "outputs": [],
   "source": [
    "docs = [Document(page_content=t) for t in texts[3:10]]"
   ]
  },
  {
   "cell_type": "code",
   "execution_count": 102,
   "metadata": {},
   "outputs": [],
   "source": [
    "from langchain.chains.summarize import load_summarize_chain\n",
    "llm = OpenAI(temperature=0)"
   ]
  },
  {
   "cell_type": "code",
   "execution_count": 103,
   "metadata": {},
   "outputs": [
    {
     "data": {
      "text/plain": [
       "\"\\n\\nSimon Davelin is an experienced entrepreneur in the digital space, having managed teams of 3, 100, and 20 people in his businesses. He started his first business at 17 with the help of older associates and his parents' support. His forum for gamers was the beginning of the trend of socializing around video games, and he has since invested in around 20 startups. He encourages others to persevere, but not for too long.\""
      ]
     },
     "execution_count": 103,
     "metadata": {},
     "output_type": "execute_result"
    }
   ],
   "source": [
    "chain = load_summarize_chain(llm, chain_type=\"map_reduce\")\n",
    "chain.run(docs)"
   ]
  },
  {
   "cell_type": "code",
   "execution_count": null,
   "metadata": {},
   "outputs": [],
   "source": []
  }
 ],
 "metadata": {
  "kernelspec": {
   "display_name": "podcast-env",
   "language": "python",
   "name": "python3"
  },
  "language_info": {
   "codemirror_mode": {
    "name": "ipython",
    "version": 3
   },
   "file_extension": ".py",
   "mimetype": "text/x-python",
   "name": "python",
   "nbconvert_exporter": "python",
   "pygments_lexer": "ipython3",
   "version": "3.9.16"
  },
  "orig_nbformat": 4
 },
 "nbformat": 4,
 "nbformat_minor": 2
}
